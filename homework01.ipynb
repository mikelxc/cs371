{
 "cells": [
  {
   "cell_type": "markdown",
   "metadata": {
    "tags": [
     "AST"
    ]
   },
   "source": [
    "# COMPSCI 371D Homework 1"
   ]
  },
  {
   "cell_type": "markdown",
   "metadata": {
    "tags": [
     "AT"
    ]
   },
   "source": [
    "## Some Plotting Code"
   ]
  },
  {
   "cell_type": "code",
   "execution_count": 1,
   "metadata": {
    "tags": [
     "AST"
    ]
   },
   "outputs": [],
   "source": [
    "%matplotlib inline\n",
    "\n",
    "import numpy as np\n",
    "from matplotlib import pyplot as plt\n",
    "from mpl_toolkits.mplot3d import Axes3D    # Do not remove this import\n",
    "from math import floor, ceil\n",
    "import warnings\n",
    "\n",
    "\n",
    "def cleanup_ticks(get_lim, set_ticks):\n",
    "    lim = get_lim()\n",
    "    lim = [ceil(lim[0]), floor(lim[1])]\n",
    "    if lim[0] * lim[1] < 0:\n",
    "        set_ticks([lim[0], 0, lim[1]])\n",
    "    else:\n",
    "        set_ticks([lim[0], lim[1]])"
   ]
  },
  {
   "cell_type": "code",
   "execution_count": 2,
   "metadata": {
    "tags": [
     "AST"
    ]
   },
   "outputs": [],
   "source": [
    "def plot_slices(function, eigenvectors, ax, variable_range=(-1, 1), samples=101):\n",
    "    # We want division by zero to raise an exception, so we can print our own warning and abort\n",
    "    with warnings.catch_warnings():\n",
    "        warnings.simplefilter(\"error\")\n",
    "        try:\n",
    "            for i in range(2):\n",
    "                eigenvectors[i] /= np.linalg.norm(eigenvectors[i])\n",
    "        except RuntimeWarning:\n",
    "            print('Zero-norm eigenvector(s). No plot produced')\n",
    "        else:\n",
    "            t = np.linspace(variable_range[0], variable_range[1], num=samples)\n",
    "            for plot in range(2):\n",
    "                x, y = (eigenvectors[plot][component] * t for component in range(2))\n",
    "                ax.plot(t, function(x, y), label='Along v_{}'.format(plot + 1))\n",
    "            cleanup_ticks(ax.get_xlim, plt.xticks)\n",
    "            cleanup_ticks(ax.get_ylim, plt.yticks)\n",
    "            plt.legend()\n",
    "            plt.xlabel('t')"
   ]
  },
  {
   "cell_type": "code",
   "execution_count": 3,
   "metadata": {
    "tags": [
     "AST"
    ]
   },
   "outputs": [],
   "source": [
    "def plot_function(function, ax, variable_range=(-1, 1), samples=101):\n",
    "    t = np.linspace(variable_range[0], variable_range[1], num=samples)\n",
    "    x, y = np.meshgrid(t, t)\n",
    "    ax.plot_surface(x, y, function(x, y), cmap=plt.get_cmap('viridis'))\n",
    "    cleanup_ticks(ax.get_xlim, ax.set_xticks)\n",
    "    cleanup_ticks(ax.get_ylim, ax.set_yticks)\n",
    "    cleanup_ticks(ax.get_zlim, ax.set_zticks)\n",
    "    plt.xlabel('x')\n",
    "    plt.ylabel('y')"
   ]
  },
  {
   "cell_type": "code",
   "execution_count": 4,
   "metadata": {
    "tags": [
     "AST"
    ]
   },
   "outputs": [],
   "source": [
    "def plot_both(name, function, eigenvectors, fig, variable_range=(-1, 1), samples=101):\n",
    "    subplot_1 = fig.add_subplot(1, 2, 1, projection='3d')\n",
    "    plot_function(function, subplot_1, variable_range=variable_range, samples=samples)\n",
    "    subplot_2 = fig.add_subplot(1, 2, 2)\n",
    "    plot_slices(function, eigenvectors, subplot_2, variable_range=variable_range,\n",
    "                samples=samples)\n",
    "    fig.suptitle('{}(x, y)'.format(name))"
   ]
  },
  {
   "cell_type": "code",
   "execution_count": 5,
   "metadata": {
    "tags": [
     "AST"
    ]
   },
   "outputs": [],
   "source": [
    "def answer(name, function, eigenvectors):\n",
    "    print('(5)')\n",
    "    figure = plt.figure(figsize=(12, 5))\n",
    "    plot_both(name, function, eigenvectors, figure)\n",
    "    plt.show()"
   ]
  },
  {
   "cell_type": "markdown",
   "metadata": {
    "tags": [
     "AST"
    ]
   },
   "source": [
    "## Part 1: Gradient and Hessian"
   ]
  },
  {
   "cell_type": "markdown",
   "metadata": {
    "tags": [
     "AT"
    ]
   },
   "source": [
    "(1) Gradient and Hessian:\n",
    "\n",
    "$$\n",
    "\\nabla ?(\\mathbf{x}) = \\left[\\begin{array}{c} ? \\\\ ? \\end{array}\\right]\n",
    "\\;\\;\\;\\;\\;\\;\\;\\;\n",
    "H_?(\\mathbf{x}) = \\left[\\begin{array}{cc} ? & ? \\\\ ? & ? \\end{array}\\right]\n",
    "$$\n",
    "\n",
    "(2) Gradient and Hessian at $\\mathbf{x}_0 = (0, 0)$:\n",
    "\n",
    "$$\n",
    "\\nabla ?(\\mathbf{x}_0) = \\left[\\begin{array}{c} ? \\\\ ? \\end{array}\\right]\n",
    "\\;\\;\\;\\;\\;\\;\\;\\;\n",
    "H_?(\\mathbf{x}) = \\left[\\begin{array}{cc} ? & ? \\\\ ? & ? \\end{array}\\right]\n",
    "$$\n",
    "\n",
    "(3) Eigenvalues and eigenvectors of the Hessian at $\\mathbf{x}_0$:\n",
    "\n",
    "$$\n",
    "\\lambda_1 = ? \\;,\\;\\;\n",
    "\\lambda_2 = ? \\;,\\;\\;\n",
    "\\mathbf{v}_1 = \\left[\\begin{array}{c} ? \\\\ ? \\end{array}\\right] \\;,\\;\\;\n",
    "\\mathbf{v}_2 = \\left[\\begin{array}{c} ? \\\\ ? \\end{array}\\right]\n",
    "$$\n",
    "\n",
    "(4) The point $\\mathbf{x}_0$ is a ? because ?."
   ]
  },
  {
   "cell_type": "markdown",
   "metadata": {
    "tags": [
     "AST"
    ]
   },
   "source": [
    "### Problem 1.1\n",
    "\n",
    "$$\n",
    "d(x, y) = 2 x^2 + y\n",
    "$$"
   ]
  },
  {
   "cell_type": "markdown",
   "metadata": {
    "tags": [
     "AST"
    ]
   },
   "source": [
    "### Problem 1.2\n",
    "\n",
    "$$\n",
    "e(x, y) = \\frac{1}{2} (x - 3y)^2\n",
    "$$"
   ]
  },
  {
   "cell_type": "markdown",
   "metadata": {
    "tags": [
     "AST"
    ]
   },
   "source": [
    "### Problem 1.3\n",
    "\n",
    "$$\n",
    "f(x, y) = 1 - \\frac{1}{2} x^2 y^2\n",
    "$$"
   ]
  },
  {
   "cell_type": "markdown",
   "metadata": {
    "tags": [
     "AST"
    ]
   },
   "source": [
    "### Problem 1.4\n",
    "\n",
    "$$\n",
    "g(x, y) = x \\sin y\n",
    "$$"
   ]
  },
  {
   "cell_type": "markdown",
   "metadata": {
    "tags": [
     "AST"
    ]
   },
   "source": [
    "## Part 2: Fitting Polynomials"
   ]
  },
  {
   "cell_type": "code",
   "execution_count": 6,
   "metadata": {
    "scrolled": true,
    "tags": [
     "AST"
    ]
   },
   "outputs": [],
   "source": [
    "import numpy as np\n",
    "import matplotlib.pyplot as plt\n",
    "\n",
    "\n",
    "def show_polynomials(T, polynomials=()):\n",
    "    for key, value in T.items():\n",
    "        T[key] = np.array(value)\n",
    "    xs, ys = T.values()\n",
    "    plt.plot(xs, ys, marker='.', markersize=12, ls='')\n",
    "    number_of_plot_points = 100\n",
    "    x_range = [xs - 1, xs + 1] if xs.size == 1 else [np.amin(xs), np.amax(xs)]\n",
    "    x = np.linspace(x_range[0], x_range[1], number_of_plot_points)\n",
    "    for polynomial in polynomials:\n",
    "        number_of_coefficients = polynomial.size\n",
    "        y = np.zeros(x.shape)\n",
    "        x_power = np.ones(x.shape)\n",
    "        for k in range(number_of_coefficients):\n",
    "            y += polynomial.item(k) * x_power\n",
    "            x_power *= x\n",
    "        plt.plot(x, y, label='degree ' + str(number_of_coefficients - 1))\n",
    "    plt.xlabel('x')\n",
    "    plt.ylabel('y')\n",
    "    plt.legend()\n",
    "    plt.show()\n"
   ]
  },
  {
   "cell_type": "markdown",
   "metadata": {
    "tags": [
     "AST"
    ]
   },
   "source": [
    "### Problem 2.1"
   ]
  },
  {
   "cell_type": "markdown",
   "metadata": {
    "tags": [
     "AST"
    ]
   },
   "source": [
    "### Problem 2.2"
   ]
  },
  {
   "cell_type": "code",
   "execution_count": 7,
   "metadata": {
    "tags": [
     "AST"
    ]
   },
   "outputs": [],
   "source": [
    "T_exact = {'x': [1, 2, 4], 'y': [2, -1, 3]}"
   ]
  },
  {
   "cell_type": "markdown",
   "metadata": {
    "tags": [
     "AST"
    ]
   },
   "source": [
    "### Problem 2.3"
   ]
  },
  {
   "cell_type": "code",
   "execution_count": 8,
   "metadata": {
    "tags": [
     "AST"
    ]
   },
   "outputs": [],
   "source": [
    "T_under = {'x': [1, 4], 'y': [2, 3]}"
   ]
  },
  {
   "cell_type": "markdown",
   "metadata": {
    "tags": [
     "AST"
    ]
   },
   "source": [
    "### Problem 2.4"
   ]
  },
  {
   "cell_type": "markdown",
   "metadata": {
    "tags": [
     "AST"
    ]
   },
   "source": [
    "### Problem 2.5"
   ]
  },
  {
   "cell_type": "code",
   "execution_count": 9,
   "metadata": {
    "tags": [
     "AST"
    ]
   },
   "outputs": [],
   "source": [
    "T_over = {'x': [1, 2, 3, 4], 'y': [2, -1, 1, 3]}"
   ]
  },
  {
   "cell_type": "markdown",
   "metadata": {
    "tags": [
     "AST"
    ]
   },
   "source": [
    "## Part 3: Eigenvalues and Eigenvectors"
   ]
  },
  {
   "cell_type": "markdown",
   "metadata": {
    "tags": [
     "AST"
    ]
   },
   "source": [
    "### Problem 3.1"
   ]
  },
  {
   "cell_type": "markdown",
   "metadata": {
    "tags": [
     "AST"
    ]
   },
   "source": [
    "### Problem 3.2"
   ]
  }
 ],
 "metadata": {
  "kernelspec": {
   "display_name": "Python 3",
   "language": "python",
   "name": "python3"
  },
  "language_info": {
   "codemirror_mode": {
    "name": "ipython",
    "version": 3
   },
   "file_extension": ".py",
   "mimetype": "text/x-python",
   "name": "python",
   "nbconvert_exporter": "python",
   "pygments_lexer": "ipython3",
   "version": "3.7.3"
  }
 },
 "nbformat": 4,
 "nbformat_minor": 2
}
